{
 "cells": [
  {
   "cell_type": "markdown",
   "metadata": {},
   "source": [
    "# Real-time Speech to Text Transcription"
   ]
  },
  {
   "cell_type": "code",
   "execution_count": 1,
   "metadata": {},
   "outputs": [],
   "source": [
    "import live2text\n",
    "import os"
   ]
  },
  {
   "cell_type": "markdown",
   "metadata": {},
   "source": [
    "### Run the cell below to transcribe indefinately\n",
    "- say \"Exit\" or \"Quit\" to end the transcription\n",
    "- Transcription will be saved to a dataframe"
   ]
  },
  {
   "cell_type": "code",
   "execution_count": 2,
   "metadata": {},
   "outputs": [],
   "source": [
    "# Enter path to your google API key below\n",
    "os.environ[\"GOOGLE_APPLICATION_CREDENTIALS\"]=\"/Path/To/GoogleCloudCredentials.json\""
   ]
  },
  {
   "cell_type": "code",
   "execution_count": 3,
   "metadata": {},
   "outputs": [
    {
     "name": "stdout",
     "output_type": "stream",
     "text": [
      "1600\n",
      "\u001b[0;33m\n",
      "Listening, say \"Quit\" or \"Exit\" to stop.\n",
      "\n",
      "End (ms)       Transcript Results/Status\n",
      "=====================================================\n",
      "\u001b[0;33m\n",
      "0: NEW REQUEST\n",
      "\u001b[0;32m\u001b[K3550: 1440 Broadway\n",
      "\u001b[0;32m\u001b[K8560:  blah blah blah blah blah 250 Market\n",
      "\u001b[0;33m\n",
      "10000: NEW REQUEST\n",
      "\u001b[0;32m\u001b[K12216: blah blah blah 555 California\n",
      "\u001b[0;31m\u001b[K16436:  exit\n",
      "\u001b[0;33m\n",
      "20000: NEW REQUEST\n",
      "\u001b[0;32m\u001b[K17075: what are we supposed to do exit\n",
      "\u001b[0;33m\n",
      "30000: NEW REQUEST\n",
      "\u001b[0;32m\u001b[K34690: quit\n",
      "\u001b[0;33mExiting...\n"
     ]
    }
   ],
   "source": [
    "df_live = live2text.main()"
   ]
  },
  {
   "cell_type": "code",
   "execution_count": 5,
   "metadata": {},
   "outputs": [
    {
     "name": "stdout",
     "output_type": "stream",
     "text": [
      "Stored 'df_live' (DataFrame)\n"
     ]
    },
    {
     "data": {
      "text/html": [
       "<div>\n",
       "<style scoped>\n",
       "    .dataframe tbody tr th:only-of-type {\n",
       "        vertical-align: middle;\n",
       "    }\n",
       "\n",
       "    .dataframe tbody tr th {\n",
       "        vertical-align: top;\n",
       "    }\n",
       "\n",
       "    .dataframe thead th {\n",
       "        text-align: right;\n",
       "    }\n",
       "</style>\n",
       "<table border=\"1\" class=\"dataframe\">\n",
       "  <thead>\n",
       "    <tr style=\"text-align: right;\">\n",
       "      <th></th>\n",
       "      <th>transcripts</th>\n",
       "      <th>timestamps</th>\n",
       "    </tr>\n",
       "  </thead>\n",
       "  <tbody>\n",
       "    <tr>\n",
       "      <th>0</th>\n",
       "      <td>1440 Broadway</td>\n",
       "      <td>1573201794397</td>\n",
       "    </tr>\n",
       "    <tr>\n",
       "      <th>1</th>\n",
       "      <td>blah blah blah blah blah 250 Market</td>\n",
       "      <td>1573201799647</td>\n",
       "    </tr>\n",
       "    <tr>\n",
       "      <th>2</th>\n",
       "      <td>blah blah blah 555 California</td>\n",
       "      <td>1573201803402</td>\n",
       "    </tr>\n",
       "    <tr>\n",
       "      <th>3</th>\n",
       "      <td>what are we supposed to do</td>\n",
       "      <td>1573201814347</td>\n",
       "    </tr>\n",
       "    <tr>\n",
       "      <th>4</th>\n",
       "      <td>quit</td>\n",
       "      <td>1573201829479</td>\n",
       "    </tr>\n",
       "  </tbody>\n",
       "</table>\n",
       "</div>"
      ],
      "text/plain": [
       "                            transcripts     timestamps\n",
       "0                         1440 Broadway  1573201794397\n",
       "1   blah blah blah blah blah 250 Market  1573201799647\n",
       "2         blah blah blah 555 California  1573201803402\n",
       "3            what are we supposed to do  1573201814347\n",
       "4                                  quit  1573201829479"
      ]
     },
     "execution_count": 5,
     "metadata": {},
     "output_type": "execute_result"
    }
   ],
   "source": [
    "%store df_live\n",
    "df_live"
   ]
  },
  {
   "cell_type": "code",
   "execution_count": null,
   "metadata": {},
   "outputs": [],
   "source": [
    "if "
   ]
  }
 ],
 "metadata": {
  "kernelspec": {
   "display_name": "Python 3",
   "language": "python",
   "name": "python3"
  },
  "language_info": {
   "codemirror_mode": {
    "name": "ipython",
    "version": 3
   },
   "file_extension": ".py",
   "mimetype": "text/x-python",
   "name": "python",
   "nbconvert_exporter": "python",
   "pygments_lexer": "ipython3",
   "version": "3.7.5"
  }
 },
 "nbformat": 4,
 "nbformat_minor": 2
}
