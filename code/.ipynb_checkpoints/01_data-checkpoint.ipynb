{
 "cells": [
  {
   "cell_type": "markdown",
   "metadata": {},
   "source": [
    "## Download Audio Files from BroadCastify\n",
    "---\n",
    "**Thanks for Developing BArt** : [Joseph Hopkins, Carol, Chiu, Anthony Chapman, Kwamae Delva](https://github.com/delvakwa/police_radio_to_mapping)"
   ]
  },
  {
   "cell_type": "markdown",
   "metadata": {},
   "source": [
    "\"The Broadcastify Archive Tool (BArT) automates downloading audio archives from Broadcastify, \"the world's largest source of Public Safety, Airline, Rail, and Marine live audio streams\""
   ]
  },
  {
   "cell_type": "markdown",
   "metadata": {},
   "source": [
    "#### Import Libraries ( BArt - Broadcastify Archive Tool )"
   ]
  },
  {
   "cell_type": "code",
   "execution_count": 1,
   "metadata": {},
   "outputs": [],
   "source": [
    "import bart\n",
    "from datetime import datetime"
   ]
  },
  {
   "cell_type": "markdown",
   "metadata": {},
   "source": [
    "#### Choose Feed_ID from Broadcastify's Website"
   ]
  },
  {
   "cell_type": "code",
   "execution_count": 2,
   "metadata": {},
   "outputs": [],
   "source": [
    "TEST_FEED_ID = '20601' # San Francisco City Police Dispatch"
   ]
  },
  {
   "cell_type": "markdown",
   "metadata": {},
   "source": [
    "#### Specify Username and Password for you Broadcastify Premium Account"
   ]
  },
  {
   "cell_type": "code",
   "execution_count": 3,
   "metadata": {},
   "outputs": [],
   "source": [
    "USERNAME = '<YOUR-USERNAME>'\n",
    "PASSWORD = '<YOUR-PASSWORD>'"
   ]
  },
  {
   "cell_type": "markdown",
   "metadata": {},
   "source": [
    "#### Instantiate BArT"
   ]
  },
  {
   "cell_type": "code",
   "execution_count": 4,
   "metadata": {},
   "outputs": [],
   "source": [
    "archive = bart.BroadcastifyArchive(TEST_FEED_ID, USERNAME, PASSWORD)"
   ]
  },
  {
   "cell_type": "markdown",
   "metadata": {},
   "source": [
    "#### Check Archive Variable and Print Object Representation"
   ]
  },
  {
   "cell_type": "code",
   "execution_count": 5,
   "metadata": {},
   "outputs": [
    {
     "data": {
      "text/plain": [
       "BroadcastifyArchive\n",
       " (0 entries\n",
       "  feed_id = 20601\n",
       "  feed_name = San Francisco City Police Dispatch\n",
       "  start date: None\n",
       "  end date:   None\n",
       "  username = \"gabrielpprieto\", pwd = [True]\n",
       "  feed_url = \"https://www.broadcastify.com/listen/feed/20601\"\n",
       "  archive_url = \"https://www.broadcastify.com/archives/feed/20601\"\n",
       "  verbose = True)"
      ]
     },
     "execution_count": 5,
     "metadata": {},
     "output_type": "execute_result"
    }
   ],
   "source": [
    "archive"
   ]
  },
  {
   "cell_type": "markdown",
   "metadata": {},
   "source": [
    "#### Build an Archive Going Back 1 Day"
   ]
  },
  {
   "cell_type": "code",
   "execution_count": 6,
   "metadata": {},
   "outputs": [
    {
     "name": "stdout",
     "output_type": "stream",
     "text": [
      "Closing browser...\n",
      "Archive build complete.\n",
      "BroadcastifyArchive\n",
      " (64 entries\n",
      "  feed_id = 20601\n",
      "  feed_name = San Francisco City Police Dispatch\n",
      "  start date: 2019-11-05 00:04:00\n",
      "  end date:   2019-11-06 15:29:00\n",
      "  username = \"gabrielpprieto\", pwd = [True]\n",
      "  feed_url = \"https://www.broadcastify.com/listen/feed/20601\"\n",
      "  archive_url = \"https://www.broadcastify.com/archives/feed/20601\"\n",
      "  verbose = True)\n"
     ]
    }
   ],
   "source": [
    "archive.build(1)"
   ]
  },
  {
   "cell_type": "markdown",
   "metadata": {},
   "source": [
    "#### Download mp3 Files for Chosen Feed"
   ]
  },
  {
   "cell_type": "code",
   "execution_count": 8,
   "metadata": {
    "scrolled": false
   },
   "outputs": [
    {
     "name": "stdout",
     "output_type": "stream",
     "text": [
      "Retrieving list of ArchiveEntries...\n",
      " no earlier than 2019-11-05 08:00:00\n",
      " no later than   2019-11-05 11:00:00\n",
      "\n",
      "7 ArchiveEntries matched.\n",
      "Downloading 1 of 7\n",
      "\tfrom https://garchives1.broadcastify.com/20601/20191106/201911061302-349791-20601.mp3\n",
      "\tto ./testing/mp3_downloads/20601-20191105-1100.mp3\n",
      "Downloading 2 of 7\n",
      "\tfrom https://garchives1.broadcastify.com/20601/20191106/201911061236-461269-20601.mp3\n",
      "\tto ./testing/mp3_downloads/20601-20191105-1030.mp3\n",
      "Downloading 3 of 7\n",
      "\tfrom https://garchives1.broadcastify.com/20601/20191106/201911061206-239069-20601.mp3\n",
      "\tto ./testing/mp3_downloads/20601-20191105-1000.mp3\n",
      "Downloading 4 of 7\n",
      "\tfrom https://garchives1.broadcastify.com/20601/20191106/201911061139-977008-20601.mp3\n",
      "\tto ./testing/mp3_downloads/20601-20191105-0931.mp3\n",
      "Downloading 5 of 7\n",
      "\tfrom https://garchives1.broadcastify.com/20601/20191106/201911061110-758892-20601.mp3\n",
      "\tto ./testing/mp3_downloads/20601-20191105-0901.mp3\n",
      "Downloading 6 of 7\n",
      "\tfrom https://garchives1.broadcastify.com/20601/20191106/201911061037-252620-20601.mp3\n",
      "\tto ./testing/mp3_downloads/20601-20191105-0831.mp3\n",
      "Downloading 7 of 7\n",
      "\tfrom https://garchives1.broadcastify.com/20601/20191106/201911061007-838964-20601.mp3\n",
      "\tto ./testing/mp3_downloads/20601-20191105-0801.mp3\n",
      "\n",
      "Downloads complete.\n",
      "\n",
      "Retrieved 7 files in 34.173 seconds.\n"
     ]
    }
   ],
   "source": [
    "archive.download(start=datetime(2019,11,5,8,0), end=datetime(2019,11,5,11,0))\n",
    "\n",
    "# Substitute in your dates with a datetime object: datetime(YYYY,M,D,H,M) (hour in 24-hr format)"
   ]
  }
 ],
 "metadata": {
  "kernelspec": {
   "display_name": "Python 3",
   "language": "python",
   "name": "python3"
  },
  "language_info": {
   "codemirror_mode": {
    "name": "ipython",
    "version": 3
   },
   "file_extension": ".py",
   "mimetype": "text/x-python",
   "name": "python",
   "nbconvert_exporter": "python",
   "pygments_lexer": "ipython3",
   "version": "3.7.5"
  }
 },
 "nbformat": 4,
 "nbformat_minor": 2
}
